{
 "cells": [
  {
   "cell_type": "markdown",
   "id": "b21a52ba",
   "metadata": {},
   "source": [
    "# Cradet Card Fraud Detection "
   ]
  },
  {
   "cell_type": "markdown",
   "id": "9ebe96a1",
   "metadata": {},
   "source": [
    "***Important Libraries to import*** "
   ]
  },
  {
   "cell_type": "code",
   "execution_count": 1,
   "id": "1f3d7dd9",
   "metadata": {},
   "outputs": [],
   "source": [
    "import pandas as pd\n",
    "import matplotlib.pyplot as plt\n",
    "%matplotlib inline\n",
    "import numpy as np\n",
    "from __future__ import print_function\n",
    "from sklearn.model_selection import train_test_split\n",
    "from sklearn.metrics import roc_auc_score\n",
    "from sklearn.preprocessing import normalize, StandardScaler\n",
    "import time\n",
    "import warnings\n",
    "warnings.filterwarnings(\"ignore\")"
   ]
  },
  {
   "cell_type": "markdown",
   "id": "c3a13b9c",
   "metadata": {},
   "source": [
    "## Data Analysis"
   ]
  },
  {
   "cell_type": "markdown",
   "id": "ef3154f3",
   "metadata": {},
   "source": [
    "We are going to read and visualize the data in this section also we'll look at some statistics of the data."
   ]
  },
  {
   "cell_type": "code",
   "execution_count": 2,
   "id": "f1f04e3b",
   "metadata": {},
   "outputs": [
    {
     "name": "stdout",
     "output_type": "stream",
     "text": [
      "Therre are 284807 Observation in the dataset.\n",
      "There are 31 Variables in the dataset.\n"
     ]
    },
    {
     "data": {
      "text/html": [
       "<div>\n",
       "<style scoped>\n",
       "    .dataframe tbody tr th:only-of-type {\n",
       "        vertical-align: middle;\n",
       "    }\n",
       "\n",
       "    .dataframe tbody tr th {\n",
       "        vertical-align: top;\n",
       "    }\n",
       "\n",
       "    .dataframe thead th {\n",
       "        text-align: right;\n",
       "    }\n",
       "</style>\n",
       "<table border=\"1\" class=\"dataframe\">\n",
       "  <thead>\n",
       "    <tr style=\"text-align: right;\">\n",
       "      <th></th>\n",
       "      <th>Time</th>\n",
       "      <th>V1</th>\n",
       "      <th>V2</th>\n",
       "      <th>V3</th>\n",
       "      <th>V4</th>\n",
       "      <th>V5</th>\n",
       "      <th>V6</th>\n",
       "      <th>V7</th>\n",
       "      <th>V8</th>\n",
       "      <th>V9</th>\n",
       "      <th>...</th>\n",
       "      <th>V21</th>\n",
       "      <th>V22</th>\n",
       "      <th>V23</th>\n",
       "      <th>V24</th>\n",
       "      <th>V25</th>\n",
       "      <th>V26</th>\n",
       "      <th>V27</th>\n",
       "      <th>V28</th>\n",
       "      <th>Amount</th>\n",
       "      <th>Class</th>\n",
       "    </tr>\n",
       "  </thead>\n",
       "  <tbody>\n",
       "    <tr>\n",
       "      <th>0</th>\n",
       "      <td>0.0</td>\n",
       "      <td>-1.359807</td>\n",
       "      <td>-0.072781</td>\n",
       "      <td>2.536347</td>\n",
       "      <td>1.378155</td>\n",
       "      <td>-0.338321</td>\n",
       "      <td>0.462388</td>\n",
       "      <td>0.239599</td>\n",
       "      <td>0.098698</td>\n",
       "      <td>0.363787</td>\n",
       "      <td>...</td>\n",
       "      <td>-0.018307</td>\n",
       "      <td>0.277838</td>\n",
       "      <td>-0.110474</td>\n",
       "      <td>0.066928</td>\n",
       "      <td>0.128539</td>\n",
       "      <td>-0.189115</td>\n",
       "      <td>0.133558</td>\n",
       "      <td>-0.021053</td>\n",
       "      <td>149.62</td>\n",
       "      <td>0</td>\n",
       "    </tr>\n",
       "    <tr>\n",
       "      <th>1</th>\n",
       "      <td>0.0</td>\n",
       "      <td>1.191857</td>\n",
       "      <td>0.266151</td>\n",
       "      <td>0.166480</td>\n",
       "      <td>0.448154</td>\n",
       "      <td>0.060018</td>\n",
       "      <td>-0.082361</td>\n",
       "      <td>-0.078803</td>\n",
       "      <td>0.085102</td>\n",
       "      <td>-0.255425</td>\n",
       "      <td>...</td>\n",
       "      <td>-0.225775</td>\n",
       "      <td>-0.638672</td>\n",
       "      <td>0.101288</td>\n",
       "      <td>-0.339846</td>\n",
       "      <td>0.167170</td>\n",
       "      <td>0.125895</td>\n",
       "      <td>-0.008983</td>\n",
       "      <td>0.014724</td>\n",
       "      <td>2.69</td>\n",
       "      <td>0</td>\n",
       "    </tr>\n",
       "    <tr>\n",
       "      <th>2</th>\n",
       "      <td>1.0</td>\n",
       "      <td>-1.358354</td>\n",
       "      <td>-1.340163</td>\n",
       "      <td>1.773209</td>\n",
       "      <td>0.379780</td>\n",
       "      <td>-0.503198</td>\n",
       "      <td>1.800499</td>\n",
       "      <td>0.791461</td>\n",
       "      <td>0.247676</td>\n",
       "      <td>-1.514654</td>\n",
       "      <td>...</td>\n",
       "      <td>0.247998</td>\n",
       "      <td>0.771679</td>\n",
       "      <td>0.909412</td>\n",
       "      <td>-0.689281</td>\n",
       "      <td>-0.327642</td>\n",
       "      <td>-0.139097</td>\n",
       "      <td>-0.055353</td>\n",
       "      <td>-0.059752</td>\n",
       "      <td>378.66</td>\n",
       "      <td>0</td>\n",
       "    </tr>\n",
       "    <tr>\n",
       "      <th>3</th>\n",
       "      <td>1.0</td>\n",
       "      <td>-0.966272</td>\n",
       "      <td>-0.185226</td>\n",
       "      <td>1.792993</td>\n",
       "      <td>-0.863291</td>\n",
       "      <td>-0.010309</td>\n",
       "      <td>1.247203</td>\n",
       "      <td>0.237609</td>\n",
       "      <td>0.377436</td>\n",
       "      <td>-1.387024</td>\n",
       "      <td>...</td>\n",
       "      <td>-0.108300</td>\n",
       "      <td>0.005274</td>\n",
       "      <td>-0.190321</td>\n",
       "      <td>-1.175575</td>\n",
       "      <td>0.647376</td>\n",
       "      <td>-0.221929</td>\n",
       "      <td>0.062723</td>\n",
       "      <td>0.061458</td>\n",
       "      <td>123.50</td>\n",
       "      <td>0</td>\n",
       "    </tr>\n",
       "    <tr>\n",
       "      <th>4</th>\n",
       "      <td>2.0</td>\n",
       "      <td>-1.158233</td>\n",
       "      <td>0.877737</td>\n",
       "      <td>1.548718</td>\n",
       "      <td>0.403034</td>\n",
       "      <td>-0.407193</td>\n",
       "      <td>0.095921</td>\n",
       "      <td>0.592941</td>\n",
       "      <td>-0.270533</td>\n",
       "      <td>0.817739</td>\n",
       "      <td>...</td>\n",
       "      <td>-0.009431</td>\n",
       "      <td>0.798278</td>\n",
       "      <td>-0.137458</td>\n",
       "      <td>0.141267</td>\n",
       "      <td>-0.206010</td>\n",
       "      <td>0.502292</td>\n",
       "      <td>0.219422</td>\n",
       "      <td>0.215153</td>\n",
       "      <td>69.99</td>\n",
       "      <td>0</td>\n",
       "    </tr>\n",
       "  </tbody>\n",
       "</table>\n",
       "<p>5 rows × 31 columns</p>\n",
       "</div>"
      ],
      "text/plain": [
       "   Time        V1        V2        V3        V4        V5        V6        V7  \\\n",
       "0   0.0 -1.359807 -0.072781  2.536347  1.378155 -0.338321  0.462388  0.239599   \n",
       "1   0.0  1.191857  0.266151  0.166480  0.448154  0.060018 -0.082361 -0.078803   \n",
       "2   1.0 -1.358354 -1.340163  1.773209  0.379780 -0.503198  1.800499  0.791461   \n",
       "3   1.0 -0.966272 -0.185226  1.792993 -0.863291 -0.010309  1.247203  0.237609   \n",
       "4   2.0 -1.158233  0.877737  1.548718  0.403034 -0.407193  0.095921  0.592941   \n",
       "\n",
       "         V8        V9  ...       V21       V22       V23       V24       V25  \\\n",
       "0  0.098698  0.363787  ... -0.018307  0.277838 -0.110474  0.066928  0.128539   \n",
       "1  0.085102 -0.255425  ... -0.225775 -0.638672  0.101288 -0.339846  0.167170   \n",
       "2  0.247676 -1.514654  ...  0.247998  0.771679  0.909412 -0.689281 -0.327642   \n",
       "3  0.377436 -1.387024  ... -0.108300  0.005274 -0.190321 -1.175575  0.647376   \n",
       "4 -0.270533  0.817739  ... -0.009431  0.798278 -0.137458  0.141267 -0.206010   \n",
       "\n",
       "        V26       V27       V28  Amount  Class  \n",
       "0 -0.189115  0.133558 -0.021053  149.62      0  \n",
       "1  0.125895 -0.008983  0.014724    2.69      0  \n",
       "2 -0.139097 -0.055353 -0.059752  378.66      0  \n",
       "3 -0.221929  0.062723  0.061458  123.50      0  \n",
       "4  0.502292  0.219422  0.215153   69.99      0  \n",
       "\n",
       "[5 rows x 31 columns]"
      ]
     },
     "execution_count": 2,
     "metadata": {},
     "output_type": "execute_result"
    }
   ],
   "source": [
    "raw_data =  pd.read_csv(\"creditcard.csv\")\n",
    "\n",
    "print(\"Therre are \" + str(len(raw_data)) +\" Observation in the dataset.\")\n",
    "print(\"There are \" + str(len(raw_data.columns)) + \" Variables in the dataset.\")\n",
    "\n",
    "raw_data.head()"
   ]
  },
  {
   "cell_type": "markdown",
   "id": "af6b654e",
   "metadata": {},
   "source": [
    " A financial institution may have access to a much larger dataset of transection. To simulate such a case we will inflate the original one 10 times. "
   ]
  },
  {
   "cell_type": "code",
   "execution_count": 3,
   "id": "a265365e",
   "metadata": {},
   "outputs": [
    {
     "name": "stdout",
     "output_type": "stream",
     "text": [
      "There are 2848070 Observations in inflate cradet card fraud dataset\n",
      "Therre are 31 variables in the dataset\n"
     ]
    }
   ],
   "source": [
    "n_replica = 10\n",
    "\n",
    "#inflate the original dataset\n",
    "big_raw_data = pd.DataFrame(np.repeat(raw_data.values, n_replica, axis=0), columns=raw_data.columns)\n",
    "\n",
    "print(\"There are \" +str(len(big_raw_data)) + \" Observations in inflate cradet card fraud dataset\")\n",
    "print(\"Therre are \" +str(len(big_raw_data.columns)) + \" variables in the dataset\")"
   ]
  },
  {
   "cell_type": "code",
   "execution_count": 4,
   "id": "9bfdcfa9",
   "metadata": {},
   "outputs": [
    {
     "name": "stdout",
     "output_type": "stream",
     "text": [
      "District Classes [0. 1.]\n",
      "Sizes of Classes are [2843150    4920]\n"
     ]
    },
    {
     "data": {
      "image/png": "[encoded data removed]",
      "text/plain": [
       "<Figure size 640x480 with 1 Axes>"
      ]
     },
     "metadata": {},
     "output_type": "display_data"
    }
   ],
   "source": [
    "#get the set of disrict classes\n",
    "labels =  big_raw_data.Class.unique()\n",
    "print(\"District Classes \" +str(labels))\n",
    "\n",
    "#get the cout of each class\n",
    "sizes =  big_raw_data.Class.value_counts().values\n",
    "print(\"Sizes of Classes are \" +str(sizes))\n",
    "\n",
    "#plot the class value count\n",
    "fig, ax = plt.subplots()\n",
    "ax.pie(sizes, labels=labels, autopct='%1.3f%%')\n",
    "ax.set_title('Target Variables value count ')\n",
    "plt.show()"
   ]
  },
  {
   "cell_type": "markdown",
   "id": "a73f1aa4",
   "metadata": {},
   "source": [
    "As shown above the calss variav=ble has two values 0 and 1. So we need to model a binary classifier problem. Moreover the dataset is highly unbalanced, the target variable class is not represented equally. This case requires special attention when training or when evaluating the quality of a model. One way of handing this case at train time is to bias the model to pay more attention to the samples in the minority class. The models under the current study will be configured to take into account the class weights of the samples at train/fit time."
   ]
  },
  {
   "cell_type": "markdown",
   "id": "2032e5a6",
   "metadata": {},
   "source": [
    "Plot a histogram that shows the distribution of these amounts? What is the range of these amounts (min/max)? Could you print the 90th percentile of the amount values?"
   ]
  },
  {
   "cell_type": "code",
   "execution_count": 5,
   "id": "06d04174",
   "metadata": {},
   "outputs": [
    {
     "data": {
      "image/png": "[encoded data removed]",
      "text/plain": [
       "<Figure size 640x480 with 1 Axes>"
      ]
     },
     "metadata": {},
     "output_type": "display_data"
    }
   ],
   "source": [
    "plt.hist(big_raw_data.Amount.values,6, histtype='bar', facecolor='g')\n",
    "plt.show()"
   ]
  },
  {
   "cell_type": "code",
   "execution_count": 6,
   "id": "44570d99",
   "metadata": {},
   "outputs": [
    {
     "name": "stdout",
     "output_type": "stream",
     "text": [
      "Minimum amount value is  0.0\n",
      "Maximum amount value is  25691.16\n",
      "90% of the transaction is lesss then or equal to  203.0\n"
     ]
    }
   ],
   "source": [
    "print(\"Minimum amount value is \", np.min(big_raw_data.Amount.values))\n",
    "print(\"Maximum amount value is \", np.max(big_raw_data.Amount.values))\n",
    "print(\"90% of the transaction is lesss then or equal to \", np.percentile(big_raw_data.Amount.values, 90))"
   ]
  },
  {
   "cell_type": "markdown",
   "id": "1280ebcf",
   "metadata": {},
   "source": [
    "## Data Preprocessing \n",
    "\n",
    "Heree we will prepare data for training"
   ]
  },
  {
   "cell_type": "code",
   "execution_count": 7,
   "id": "f81a4540",
   "metadata": {},
   "outputs": [
    {
     "name": "stdout",
     "output_type": "stream",
     "text": [
      "X.shape  (2848070, 29) Y.shape  (2848070,)\n"
     ]
    }
   ],
   "source": [
    "# data preprocessing like scaling and normalization is typically used in linear mdels \n",
    "#to accelerate the training convergence\n",
    "\n",
    "# standardize the features by removing mean and scaling to unit variance\n",
    "\n",
    "big_raw_data.iloc[:, 1:30] = StandardScaler().fit_transform(big_raw_data.iloc[:, 1:30])\n",
    "data_matrix = big_raw_data.values\n",
    "\n",
    "# X: feature matrix (for this analysis we exclide the time variable from the dataset)\n",
    "X = data_matrix[:, 1:30]\n",
    "\n",
    "# Y: ;label vactor\n",
    "Y = data_matrix[:, 30]\n",
    "\n",
    "# data normalization\n",
    "X = normalize(X, norm=\"l1\")\n",
    "\n",
    "#print the shape of the feature matrix and the vactor\n",
    "print(\"X.shape \", X.shape, \"Y.shape \", Y.shape)"
   ]
  },
  {
   "cell_type": "markdown",
   "id": "a4d8076d",
   "metadata": {},
   "source": [
    "## Train Test Split\n",
    "\n",
    "As dataset is ready for building the classification model, we need to first divide the precessed data into a subset for training the model and a subset to be used for evaluating the quality of the model."
   ]
  },
  {
   "cell_type": "code",
   "execution_count": 8,
   "id": "b3ff0504",
   "metadata": {},
   "outputs": [
    {
     "name": "stdout",
     "output_type": "stream",
     "text": [
      "X_train.shape  (1993649, 29) Y_train.shape  (1993649,)\n",
      "X_test.shape  (854421, 29) Y_test.shape (854421,)\n"
     ]
    }
   ],
   "source": [
    "X_train, X_test, y_train, y_test = train_test_split(X, Y, test_size=0.3, random_state=42, stratify=Y)\n",
    "\n",
    "print(\"X_train.shape \",X_train.shape,\"Y_train.shape \",y_train.shape)\n",
    "print(\"X_test.shape \",X_test.shape,\"Y_test.shape\",y_test.shape)"
   ]
  },
  {
   "cell_type": "markdown",
   "id": "0c3901ef",
   "metadata": {},
   "source": [
    "## Built a Decision Tree Classifier model with sklearn"
   ]
  },
  {
   "cell_type": "code",
   "execution_count": 9,
   "id": "48662682",
   "metadata": {},
   "outputs": [],
   "source": [
    "from sklearn.utils.class_weight import compute_sample_weight"
   ]
  },
  {
   "cell_type": "code",
   "execution_count": 10,
   "id": "8a942f4e",
   "metadata": {},
   "outputs": [
    {
     "name": "stdout",
     "output_type": "stream",
     "text": [
      "Scikit-learn training time (s):  72.18161\n"
     ]
    }
   ],
   "source": [
    "# Compute the sample weight to be used as input to the train routine so that it takes into account \n",
    "# that the class imbalance is present in the dataset\n",
    "\n",
    "w_train = compute_sample_weight('balanced', y_train)\n",
    "\n",
    "# import decision tree classifier model from sklearn\n",
    "from sklearn.tree import DecisionTreeClassifier\n",
    "\n",
    "# for reproducable output across multiple function calls, set random state to a given integer value\n",
    "sklearn_dt = DecisionTreeClassifier(max_depth=4, random_state=35)\n",
    "\n",
    "#train decision tree classifier using sklearn\n",
    "t0 = time.time()\n",
    "sklearn_dt.fit(X_train, y_train, sample_weight=w_train)\n",
    "sklearn_time = time.time()-t0\n",
    "print(\"Scikit-learn training time (s): {0: .5f}\".format(sklearn_time))"
   ]
  },
  {
   "cell_type": "markdown",
   "id": "f6daec0d",
   "metadata": {},
   "source": [
    "## Built Decision Tree Classifier model with Snap ML"
   ]
  },
  {
   "cell_type": "code",
   "execution_count": 11,
   "id": "0e7c5013",
   "metadata": {},
   "outputs": [],
   "source": [
    "# !pip install snapml"
   ]
  },
  {
   "cell_type": "code",
   "execution_count": 12,
   "id": "e9198d0d",
   "metadata": {},
   "outputs": [
    {
     "name": "stdout",
     "output_type": "stream",
     "text": [
      "Snap ML training time (s):  9.51717\n"
     ]
    }
   ],
   "source": [
    "# if not already computed, \n",
    "# compute the sample weights to be used as input to the train routine so that \n",
    "# it takes into account the class imbalance present in this dataset\n",
    "w_train = compute_sample_weight('balanced', y_train)\n",
    "\n",
    "#import decisiontree classifier model from snapml\n",
    "from snapml import DecisionTreeClassifier\n",
    "\n",
    "# Snap ML offers multi-threaded CPU/GPU training of decision trees, unlike scikit-learn\n",
    "# to use the GPU, set the use_gpu parameter to True\n",
    "# snapml_dt = DecisionTreeClassifier(max_depth=4, random_state=45, use_gpu=True)\n",
    "\n",
    "# to set the number of CPU threads used at training time, set the n_jobs parameter\n",
    "# for reproducible output across multiple function calls, set random_state to a given integer value\n",
    "snapml_dt = DecisionTreeClassifier(max_depth=4, random_state=42, n_jobs=4)\n",
    "\n",
    "# train a Decision Tree Classifier model using Snap ML\n",
    "t0 = time.time()\n",
    "snapml_dt.fit(X_train, y_train, sample_weight=w_train)\n",
    "snapml_time = time.time()-t0\n",
    "print(\"Snap ML training time (s): {0: .5f}\".format(snapml_time))"
   ]
  },
  {
   "cell_type": "markdown",
   "id": "03ef7865",
   "metadata": {},
   "source": [
    "## Evaluate Scikit-learn and Snap ML Decision Tree Classifier Model"
   ]
  },
  {
   "cell_type": "code",
   "execution_count": 19,
   "id": "368cfc54",
   "metadata": {},
   "outputs": [
    {
     "name": "stdout",
     "output_type": "stream",
     "text": [
      "Decision tree Classifier Snap Ml vs. Scikit-learn speedup :  7.58x \n"
     ]
    }
   ],
   "source": [
    "#snapml vs scikit-learn training speedup\n",
    "training_speedup = sklearn_time/snapml_time\n",
    "print(\"Decision tree Classifier Snap Ml vs. Scikit-learn speedup : {0: .2f}x \".format(training_speedup))"
   ]
  },
  {
   "cell_type": "code",
   "execution_count": 21,
   "id": "bf11524c",
   "metadata": {},
   "outputs": [
    {
     "data": {
      "text/plain": [
       "array([0.03947781, 0.09088916, 0.03947781, ..., 0.03947781, 0.03947781,\n",
       "       0.03947781])"
      ]
     },
     "execution_count": 21,
     "metadata": {},
     "output_type": "execute_result"
    }
   ],
   "source": [
    "# run inference and compute the probabilities of the test sample to belong to the class of fraudulant transection\n",
    "sklearn_pred = sklearn_dt.predict_proba(X_test)[:,1]\n",
    "sklearn_pred"
   ]
  },
  {
   "cell_type": "code",
   "execution_count": 22,
   "id": "43589d94",
   "metadata": {},
   "outputs": [
    {
     "name": "stdout",
     "output_type": "stream",
     "text": [
      "[Scikit-learn] ROC-AUC score :  0.966\n"
     ]
    }
   ],
   "source": [
    "# Evaluate the compute area under receiver operating characteristics Curve (ROC-AUC) score from the predictions\n",
    "sklearn_roc_auc = roc_auc_score(y_test,sklearn_pred)\n",
    "print(\"[Scikit-learn] ROC-AUC score : {0: .3f}\".format(sklearn_roc_auc))"
   ]
  },
  {
   "cell_type": "code",
   "execution_count": 23,
   "id": "368e3f42",
   "metadata": {},
   "outputs": [
    {
     "data": {
      "text/plain": [
       "array([0.03965165, 0.09108091, 0.03965165, ..., 0.03965165, 0.03965165,\n",
       "       0.03965165])"
      ]
     },
     "execution_count": 23,
     "metadata": {},
     "output_type": "execute_result"
    }
   ],
   "source": [
    "snapml_pred = snapml_dt.predict_proba(X_test)[:,1]\n",
    "snapml_pred"
   ]
  },
  {
   "cell_type": "code",
   "execution_count": 24,
   "id": "b68bfb01",
   "metadata": {},
   "outputs": [
    {
     "name": "stdout",
     "output_type": "stream",
     "text": [
      "[Snap Ml] ROC-AUC score :  0.966\n"
     ]
    }
   ],
   "source": [
    "snapml_roc_auc = roc_auc_score(y_test, snapml_pred)\n",
    "print(\"[Snap Ml] ROC-AUC score : {0: .3f}\".format(snapml_roc_auc))"
   ]
  },
  {
   "cell_type": "markdown",
   "id": "c3433dfd",
   "metadata": {},
   "source": [
    "As shown that both decision tree models provide the same score on th test dataset. However Snap Ml runs the training routine 7.58x faster then scikit-learn. This is one of the advantage of using snap Ml: acceleration of training of classical machine learning model such as linear and tree based mdels"
   ]
  },
  {
   "cell_type": "markdown",
   "id": "1ce4595f",
   "metadata": {},
   "source": [
    "## Building the Support Vector Machine Model using Scikit-learn"
   ]
  },
  {
   "cell_type": "code",
   "execution_count": 26,
   "id": "35d5182f",
   "metadata": {},
   "outputs": [
    {
     "name": "stdout",
     "output_type": "stream",
     "text": [
      "[Scikit-learn SVM] training time (s) :  83.46\n"
     ]
    }
   ],
   "source": [
    "#import linear support vector machine model from scikit-learn\n",
    "from sklearn.svm import LinearSVC\n",
    "\n",
    "# instatiate the scikit-learn svm model\n",
    "# to indicate the classimbalance at the fit time, set the class weight ='balanced'\n",
    "# for reproducible output across multiple function calls, set the random state to a given integer value\n",
    "sklearn_svm = LinearSVC(class_weight='balanced', random_state=31, loss=\"hinge\", fit_intercept=False)\n",
    "\n",
    "# train the linear svm model using scikit-learn\n",
    "t0 = time.time()\n",
    "sklearn_svm.fit(X_train, y_train)\n",
    "sklearn_time = time.time()-t0\n",
    "print(\"[Scikit-learn SVM] training time (s) : {0: .2f}\".format(sklearn_time))"
   ]
  },
  {
   "cell_type": "markdown",
   "id": "a038a631",
   "metadata": {},
   "source": [
    "## Build Support Vector Machine Model using Snap ML"
   ]
  },
  {
   "cell_type": "code",
   "execution_count": 29,
   "id": "b025ce5c",
   "metadata": {},
   "outputs": [
    {
     "name": "stdout",
     "output_type": "stream",
     "text": [
      "[Snap ML svm] training time (s) :  16.22\n"
     ]
    }
   ],
   "source": [
    "# import svm model from snap ml\n",
    "from snapml import SupportVectorMachine\n",
    "\n",
    "# in contrast to scikit-learn's LinearSVC, Snap ML offers multi-threaded CPU/GPU training of SVMs\n",
    "# to use the GPU, set the use_gpu parameter to True\n",
    "# snapml_svm = SupportVectorMachine(class_weight='balanced', random_state=25, use_gpu=True, fit_intercept=False)\n",
    "\n",
    "# to set the number of threads used at training time, one needs to set the n_jobs parameter\n",
    "snapml_svm = SupportVectorMachine(class_weight='balanced', random_state=25, n_jobs=4, fit_intercept=False)\n",
    "#print(snapml_svm.get_params())\n",
    "\n",
    "# Train svm model using snapml\n",
    "t0 = time.time()\n",
    "model = snapml_svm.fit(X_train, y_train)\n",
    "snapml_time = time.time() - t0\n",
    "print(\"[Snap ML svm] training time (s) : {0: .2f}\".format(snapml_time))"
   ]
  },
  {
   "cell_type": "markdown",
   "id": "23e6ef12",
   "metadata": {},
   "source": [
    "## Evaluate Scikit-learn and Snap ML SVM model"
   ]
  },
  {
   "cell_type": "code",
   "execution_count": 30,
   "id": "7f2d58ff",
   "metadata": {},
   "outputs": [
    {
     "name": "stdout",
     "output_type": "stream",
     "text": [
      "[SVM] snap ML vs Scikit-learn speedup :  5.15x\n"
     ]
    }
   ],
   "source": [
    "# Compute the snapml vs scikit-learn training speedup\n",
    "training_speedup = sklearn_time / snapml_time\n",
    "print(\"[SVM] snap ML vs Scikit-learn speedup : {0: .2f}x\".format(training_speedup))"
   ]
  },
  {
   "cell_type": "code",
   "execution_count": 31,
   "id": "c5cb4fbc",
   "metadata": {},
   "outputs": [
    {
     "data": {
      "text/plain": [
       "array([-1.00221515, -0.56524071, -1.65588761, ..., -1.40925415,\n",
       "       -1.40351212, -0.95381137])"
      ]
     },
     "execution_count": 31,
     "metadata": {},
     "output_type": "execute_result"
    }
   ],
   "source": [
    "# run inference using the Scikit-Learn model\n",
    "# get the confidence scores for the test samples\n",
    "sklearn_pred = sklearn_svm.decision_function(X_test)\n",
    "sklearn_pred"
   ]
  },
  {
   "cell_type": "code",
   "execution_count": 32,
   "id": "6643276b",
   "metadata": {},
   "outputs": [
    {
     "name": "stdout",
     "output_type": "stream",
     "text": [
      "[Scikit-learn] ROC-AUC score :  0.984\n"
     ]
    }
   ],
   "source": [
    "# evaluate accuracy on test set\n",
    "acc_sklearn = roc_auc_score(y_test, sklearn_pred)\n",
    "print(\"[Scikit-learn] ROC-AUC score : {0: .3f}\".format(acc_sklearn))"
   ]
  },
  {
   "cell_type": "code",
   "execution_count": 33,
   "id": "efb05f47",
   "metadata": {},
   "outputs": [
    {
     "data": {
      "text/plain": [
       "array([-0.95144435, -0.56278124, -1.62816215, ..., -1.38340143,\n",
       "       -1.44724802, -0.95617919])"
      ]
     },
     "execution_count": 33,
     "metadata": {},
     "output_type": "execute_result"
    }
   ],
   "source": [
    "snapml_pred = snapml_svm.decision_function(X_test)\n",
    "snapml_pred"
   ]
  },
  {
   "cell_type": "code",
   "execution_count": 34,
   "id": "4446702e",
   "metadata": {},
   "outputs": [
    {
     "name": "stdout",
     "output_type": "stream",
     "text": [
      "[Snap ML] ROC-AUC score :  0.985\n"
     ]
    }
   ],
   "source": [
    "acc_snapml = roc_auc_score(y_test, snapml_pred)\n",
    "print(\"[Snap ML] ROC-AUC score : {0: .3f}\".format(acc_snapml))"
   ]
  },
  {
   "cell_type": "markdown",
   "id": "b27a9374",
   "metadata": {},
   "source": [
    "As shown above both SVM models provide the same score on the test dataset. However, as in the case of decision trees, Snap ML runs the training routine faster than Scikit-Learn. Moreover, as shown above, not only is Snap ML seemlessly accelerating scikit-learn applications, but the library's Python API is also compatible with scikit-learn metrics and data preprocessors."
   ]
  },
  {
   "cell_type": "markdown",
   "id": "bd7ead2b",
   "metadata": {},
   "source": [
    "In this section you will evaluate the quality of the SVM models trained above using the hinge loss metric. Run inference on the test set using both Scikit-Learn and Snap ML models. Compute the hinge loss metric for both sets of predictions. Print the hinge losses of Scikit-Learn and Snap ML."
   ]
  },
  {
   "cell_type": "code",
   "execution_count": 35,
   "id": "e133d8af",
   "metadata": {},
   "outputs": [
    {
     "name": "stdout",
     "output_type": "stream",
     "text": [
      "[Snap ML] hinge loss :  0.228\n",
      "[Scikit-learn] hinge loss :  0.234\n"
     ]
    }
   ],
   "source": [
    "# get the confidance score for the test samples\n",
    "sklearn_pred = sklearn_svm.decision_function(X_test)\n",
    "snapml_pred = snapml_svm.decision_function(X_test)\n",
    "\n",
    "# import the hinge loss matrix form scikit-learn\n",
    "from sklearn.metrics import hinge_loss\n",
    "\n",
    "# evaluate the hinge loss from prediction of snapml\n",
    "loss_snapml = hinge_loss(y_test, snapml_pred)\n",
    "print(\"[Snap ML] hinge loss : {0: .3f}\".format(loss_snapml))\n",
    "\n",
    "# evaluate the hinge loss from prediction of scikit-learn\n",
    "loss_sklearn = hinge_loss(y_test, sklearn_pred)\n",
    "print(\"[Scikit-learn] hinge loss : {0: .3f}\".format(loss_sklearn))"
   ]
  },
  {
   "cell_type": "code",
   "execution_count": null,
   "id": "1c51d022",
   "metadata": {},
   "outputs": [],
   "source": []
  }
 ],
 "metadata": {
  "kernelspec": {
   "display_name": "Python 3 (ipykernel)",
   "language": "python",
   "name": "python3"
  },
  "language_info": {
   "codemirror_mode": {
    "name": "ipython",
    "version": 3
   },
   "file_extension": ".py",
   "mimetype": "text/x-python",
   "name": "python",
   "nbconvert_exporter": "python",
   "pygments_lexer": "ipython3",
   "version": "3.11.9"
  }
 },
 "nbformat": 4,
 "nbformat_minor": 5
}
